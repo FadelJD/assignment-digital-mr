{
 "cells": [
  {
   "cell_type": "markdown",
   "id": "874bb602",
   "metadata": {},
   "source": [
    "# DMR Data Science Intern Takeaway Task\n",
    "\n",
    "### Introduction\n",
    "\n",
    "This notebook will walk you through a subset of the tasks required to build and maintain our models and do basic analysis. The final output will be modified version of this notebook which trains a basic model and displays a classification report. This files should be sent back to <a href=\"mailto:jsands@digital-mr.com?subject=Data%20Science%20Intern%20Task\">jsands@digital-mr.com</a> no later than 1 week after receiving this archive. \n",
    "\n",
    "All code should be implemented in this notebook and feel free to add any additional comments/code blocks/figures as you see fit. You are not expected to have all the knowledge required to do complete the task immediately, but acquire it through a process of research and experimentation.\n",
    "\n",
    "This particular model will curate publicly available text written in Japanese, do some basic analysis, then train a basic machine learning model that is capable of predicting sentiment (positive, negative or neutral) of an unseen piece of text written in Japanese.\n",
    "\n",
    "Be sure to include explanations in markup or python comments as you go so that your work can easily be inspected and reviewed by others."
   ]
  },
  {
   "cell_type": "markdown",
   "id": "98b86521",
   "metadata": {},
   "source": [
    "### Import Libraries\n",
    "\n",
    "Below is a list of modules that are either necessary or that you may find useful. Feel free to expand upon these if required."
   ]
  },
  {
   "cell_type": "code",
   "execution_count": 1,
   "id": "186c8be1",
   "metadata": {},
   "outputs": [],
   "source": [
    "# Imports\n",
    "import pandas as pd\n",
    "import numpy as np\n",
    "from matplotlib import pyplot as plt\n",
    "from sklearn.model_selection import train_test_split\n",
    "from sklearn.feature_extraction.text import TfidfVectorizer\n",
    "from sklearn.svm import LinearSVC\n",
    "from sklearn.pipeline import Pipeline\n",
    "from sklearn.metrics import classification_report\n",
    "from nltk import TweetTokenizer"
   ]
  },
  {
   "cell_type": "markdown",
   "id": "da141c85",
   "metadata": {},
   "source": [
    "### Read Data\n",
    "\n",
    "Inspect the data in the archive and read them into separate pandas dataframes. Do some basic curation then combine them into one. The first one has been done for you.\n",
    "\n",
    "The wikipedia content is assumed to be neutral sentiment. It also disbalances the data set so only sample 10,000 documents.\n",
    "\n",
    "The JRTE data was curated by multiple curators per text, each assigning either -1, 0 or 1 to the text which correspond with negative, neutral or positive, respectively. Handle this data as you see fit."
   ]
  },
  {
   "cell_type": "code",
   "execution_count": 2,
   "id": "7fd88095",
   "metadata": {},
   "outputs": [
    {
     "name": "stdout",
     "output_type": "stream",
     "text": [
      "--------------------- Amazon Japan Sentiment Distribution ---------------------\n",
      "negative    10000\n",
      "positive    10000\n",
      "Name: sentiment, dtype: int64\n",
      "-------------------------------------------------------------------------------\n"
     ]
    },
    {
     "data": {
      "text/html": [
       "<div>\n",
       "<style scoped>\n",
       "    .dataframe tbody tr th:only-of-type {\n",
       "        vertical-align: middle;\n",
       "    }\n",
       "\n",
       "    .dataframe tbody tr th {\n",
       "        vertical-align: top;\n",
       "    }\n",
       "\n",
       "    .dataframe thead th {\n",
       "        text-align: right;\n",
       "    }\n",
       "</style>\n",
       "<table border=\"1\" class=\"dataframe\">\n",
       "  <thead>\n",
       "    <tr style=\"text-align: right;\">\n",
       "      <th></th>\n",
       "      <th>content</th>\n",
       "      <th>sentiment</th>\n",
       "      <th>source</th>\n",
       "    </tr>\n",
       "  </thead>\n",
       "  <tbody>\n",
       "    <tr>\n",
       "      <th>0</th>\n",
       "      <td>機能 制限 で アダルト 制限 して た のに 、 全然 機能 して ませ ん でした 。  我が家 の 中 坊 が 見 まくって いた 履歴 が あって 、 発覚 。 痕跡 を 残す ところ が 、 まだ 子供 です が 。 。 。  Kindle や 、 Android アプリ の 視聴 機能 制限 と は 連動 して ない そうです 。 カスタマー サポート に 確認 済み 。  Amazon が 対応 して くれる まで 、 我が家 で は 、 保護 者 が 家 を 空ける とき は 、 テレビ から スティック を 抜いて いく こと に なり そうです 。  すごく お 気に入り だった のに 、 そこ が かなり マイナスです 。  以下 、 カスタマー センター と の チャット の コピー です 。  お 問い合わせ 内容 ：  Fire  tv  stick  の 機能 制限 で 成人 向け コンテンツ の 制限 を オン に して も 、 R15 の ビデオ が 再生 さ れて しまい ます 。  Kindle や スマホ で は コンテンツ に カギ マーク が でて R15 の 制限 が 出来る のです が 、 fire  tv で は それ が でき ませ ん 。 どう やって 設定 する のです か 。</td>\n",
       "      <td>negative</td>\n",
       "      <td>Darkmap Amazon Review Dataset</td>\n",
       "    </tr>\n",
       "    <tr>\n",
       "      <th>1</th>\n",
       "      <td>本日 この 商品 が 届いて 、 無事に セットアップ が 済み ました 。  家族 で テレビ の 前 に 座って Fire  TV  Stick を 起動 さ せる と 、 トップ ページ 内 の 「 お すすめ の 日本 映画 」 に 、  声 に する の も はばから れる タイトル 、 下着 姿 の 女性 など 一見 して アダルト 向け ビデオ の それ と わかる 商品 写真 が ずらり と 並び ます 。  電源 を 入れて 現れる トップ ページ です よ ？  もちろん 言う まで も なく 、 「 18 歳 以下 の 視聴 制限 」 は オン で 、 閲覧 でき ない ように なって い ます 。  サポート に 尋ねる と 、  「 18 歳 以下 が 再生 する こと は でき なく なる が 、 お すすめ や 検索 結果 に は 表示 さ れて しまう の が 仕様 である 」 と の こと でした 。  要は 、 この アダルト 向け ビデオ の 表示 を 消す こと は 出来 ない と いう こと です 。  家族 で みんな で 唖然と し ました 。  映画 を 視聴 する たび に 気まずい 空気 に なる なんて 。  ちなみに Apple  TV は そんな 画面 は 出て き ませ ん 。  早速 返品 さ せて いただき ました 。  テレビ は タブレット 端末 や スマートフォン と 違い 、 老若 男女 、 みんな で 見る 機会 が 多い もの です 。  Amazon さん と して は 、 こういった こと に 細心の 注意 を 払う こと が 必要で は ない でしょう か 。  配慮 の 足ら な さ を 感じ ます 。</td>\n",
       "      <td>negative</td>\n",
       "      <td>Darkmap Amazon Review Dataset</td>\n",
       "    </tr>\n",
       "    <tr>\n",
       "      <th>2</th>\n",
       "      <td>2015/10/29 に 届き ました 。 妻 へ の 誕生日 プレゼント の 一 つ だった ので すぐ 開封 して 動作 確認 し ました 。 Amazon の オープニング 画面 の 後 ブラックアウト 。 何 分 待って も 何 回 試して も ダメだった ので 他の テレビ に 接続 しよう と 思い スティック に 手 を かける と 発熱 して 熱くて 触れ ませ ん でした 。 すぐ に 交換 処理 を しよう と Amazon に 接続 。 交換 の 手続き を しよう と 思い 進んで いく と カスタマー に 連絡 と いう 選択肢 しか 選べ なく なり 仕方なく カスタマー の M さん と チャット 。 何 か の Amazon 側 の トラブル で 交換 処理 が 出来 ない と の こと 。 とても 楽しみに して いた もの な ので きちんと 対応 を して いただける なら 待ち ます と M さん に 伝えた 。 しっかり 対応 する と M さん が 約束 して くれた ので 待つ こと に 。 それ から 丸 ３ 日 待った が 音沙汰 なし 。 Amazon に 不信 感 を 抱き 今度 は メール にて カスタマー に 連絡 。 当然 チャット を した M さん と は 別の 担当 K さん 。 経緯 を 伝えた が 前回 担当 の M さん が 調査 して メール する から 待て と の 旨 の 定型 文 が 返って きた 。 仕方なく もう １ 日 待って みた 。 当然 音沙汰 なし 。 どう なって いる の か ？ と 、 もう 一 度 メール を 送る と 今度 は Ｏ さん が 対応 して 前回 担当 の K さん が 調査 して メール する から 待て と の 旨 の 定型 文 が 送ら れて きた 。 しかし 、 Ｏ さん の 定型 文 に は 『 交換 対応 が 出来 ない かも しれ ない 』 旨 の 文章 が 付け加え られて おり ますます 不安に なった ので 、 交換 出来 ない 可能 が ある の か と 再度 メール にて 質問 する と 、 Ｏ さん から すぐ に 返信 が あり K さん が 調査 して る から 待て と の メール が 返って きた 。 ほんと は ここ に チャット から の やり取り を 全部 貼り付けよう か と 思った けど 、 気持ちよく Amazon を 使って 居ら れる 方 も 大勢 いらっしゃる と 思う ので やめ ました 。 機械 もの な ので 初期 不良 は 仕方 あり ませ ん が 、 Amazon カスタマー の 果たす べき 責任 を うやむやに した たらい回し に この先 も 付き合わ さ れる の か と 思う と 、 正直 嫌に なって き ました 。 私 の 望み は ただ ひと つ 。 良品 と 交換 して ください 。  2015/11/4 最初の 担当 者 の M さん から 交換 の 手続き が でき ました と の 旨 の メール が あり ました 。 最終 的に ちゃんと 対応 して もらえ ました が 、 M さん 以外 の 方 の 対応 に 誠意 が 感じ られ なかった ので 残念でした 。  2015/11/8 交換 商品 の 到着 予定 日 より 少し 早く 代わり の 商品 が 届き ました 。 少し 早く 発送 できる 旨 を カスタマー の U さん が わざわざ 電話 して くれ ました 。 更に 一連の 流れ に つき 丁寧に 謝罪 して くれ ました 。 はじめ から この 対応 だったら … と 、 ますます 残念に …  やっと ここ で 商品 の レビュー な のです が 、 設定 は とにかく 簡単です 。 機械 の こと と か 全く 解ら なくて も 誰 に でも できる と 思い ます 。 ホーム 画面 も 思って いた より も 使い やすい のです が 、 音声 認識 機能 付 の リモコン もしくは スマホ アプリ を 使わ ない と 検索 機能 が 少し 使い にくい です 。 私 の 家 の 環境 で は Wi-Fi が 途切れる こと も なく 、 再生 も スムーズに 行わ れ ます 。 使い やす さ と コスト パフォーマンス を 考えたら 商品 自体 は 星 ５ つ です 。</td>\n",
       "      <td>negative</td>\n",
       "      <td>Darkmap Amazon Review Dataset</td>\n",
       "    </tr>\n",
       "    <tr>\n",
       "      <th>3</th>\n",
       "      <td>レビュー に つら れて 購入 。 早速 、 解説 どおり に TV に 接続 開始 、 ところが 全然 反応 なし ！ いろいろ 試して も だめだった ので 知恵 袋 を 参照 したら 、 我が家 の TV は 亀山 モデル の AQUOS  ！ この 型 に は 反応 し ない と の 回答 を みつけた 次第 で 、  なに これ ～！ それ ぐらい の 注意書き ぐらい あって 然る べき か と ！</td>\n",
       "      <td>negative</td>\n",
       "      <td>Darkmap Amazon Review Dataset</td>\n",
       "    </tr>\n",
       "    <tr>\n",
       "      <th>4</th>\n",
       "      <td>設定 は デフォルト の まま です が 、 視聴 出来る 動画 の 数 が 、 PC 版 と 全く 違って 少ない です 。  ちょっと 話 に なら ない くらい 少ない です 。 残念 。</td>\n",
       "      <td>negative</td>\n",
       "      <td>Darkmap Amazon Review Dataset</td>\n",
       "    </tr>\n",
       "  </tbody>\n",
       "</table>\n",
       "</div>"
      ],
      "text/plain": [
       "                                                                                                                                                                                                                                                                                                                                                                                                                                                                                                                                                                                                                                                                                                                                                                                                                                                                                                                                                                                                                                                                                                                                                                                                                                                                                                                                                                                                                                                                                                                                                                                                                                                                                                                                                                                                                                                                                                                                                      content  \\\n",
       "0                                                                                                                                                                                                                                                                                                                                                                                                                                                                                                                                                                                                                                                                                                                                                                                                                                                                                                                                                                                                                                                                                                                                                                                                                                                                                                                                                             機能 制限 で アダルト 制限 して た のに 、 全然 機能 して ませ ん でした 。  我が家 の 中 坊 が 見 まくって いた 履歴 が あって 、 発覚 。 痕跡 を 残す ところ が 、 まだ 子供 です が 。 。 。  Kindle や 、 Android アプリ の 視聴 機能 制限 と は 連動 して ない そうです 。 カスタマー サポート に 確認 済み 。  Amazon が 対応 して くれる まで 、 我が家 で は 、 保護 者 が 家 を 空ける とき は 、 テレビ から スティック を 抜いて いく こと に なり そうです 。  すごく お 気に入り だった のに 、 そこ が かなり マイナスです 。  以下 、 カスタマー センター と の チャット の コピー です 。  お 問い合わせ 内容 ：  Fire  tv  stick  の 機能 制限 で 成人 向け コンテンツ の 制限 を オン に して も 、 R15 の ビデオ が 再生 さ れて しまい ます 。  Kindle や スマホ で は コンテンツ に カギ マーク が でて R15 の 制限 が 出来る のです が 、 fire  tv で は それ が でき ませ ん 。 どう やって 設定 する のです か 。   \n",
       "1                                                                                                                                                                                                                                                                                                                                                                                                                                                                                                                                                                                                                                                                                                                                                                                                                                                                                                                                                                                                                                                                                                                                                                         本日 この 商品 が 届いて 、 無事に セットアップ が 済み ました 。  家族 で テレビ の 前 に 座って Fire  TV  Stick を 起動 さ せる と 、 トップ ページ 内 の 「 お すすめ の 日本 映画 」 に 、  声 に する の も はばから れる タイトル 、 下着 姿 の 女性 など 一見 して アダルト 向け ビデオ の それ と わかる 商品 写真 が ずらり と 並び ます 。  電源 を 入れて 現れる トップ ページ です よ ？  もちろん 言う まで も なく 、 「 18 歳 以下 の 視聴 制限 」 は オン で 、 閲覧 でき ない ように なって い ます 。  サポート に 尋ねる と 、  「 18 歳 以下 が 再生 する こと は でき なく なる が 、 お すすめ や 検索 結果 に は 表示 さ れて しまう の が 仕様 である 」 と の こと でした 。  要は 、 この アダルト 向け ビデオ の 表示 を 消す こと は 出来 ない と いう こと です 。  家族 で みんな で 唖然と し ました 。  映画 を 視聴 する たび に 気まずい 空気 に なる なんて 。  ちなみに Apple  TV は そんな 画面 は 出て き ませ ん 。  早速 返品 さ せて いただき ました 。  テレビ は タブレット 端末 や スマートフォン と 違い 、 老若 男女 、 みんな で 見る 機会 が 多い もの です 。  Amazon さん と して は 、 こういった こと に 細心の 注意 を 払う こと が 必要で は ない でしょう か 。  配慮 の 足ら な さ を 感じ ます 。   \n",
       "2  2015/10/29 に 届き ました 。 妻 へ の 誕生日 プレゼント の 一 つ だった ので すぐ 開封 して 動作 確認 し ました 。 Amazon の オープニング 画面 の 後 ブラックアウト 。 何 分 待って も 何 回 試して も ダメだった ので 他の テレビ に 接続 しよう と 思い スティック に 手 を かける と 発熱 して 熱くて 触れ ませ ん でした 。 すぐ に 交換 処理 を しよう と Amazon に 接続 。 交換 の 手続き を しよう と 思い 進んで いく と カスタマー に 連絡 と いう 選択肢 しか 選べ なく なり 仕方なく カスタマー の M さん と チャット 。 何 か の Amazon 側 の トラブル で 交換 処理 が 出来 ない と の こと 。 とても 楽しみに して いた もの な ので きちんと 対応 を して いただける なら 待ち ます と M さん に 伝えた 。 しっかり 対応 する と M さん が 約束 して くれた ので 待つ こと に 。 それ から 丸 ３ 日 待った が 音沙汰 なし 。 Amazon に 不信 感 を 抱き 今度 は メール にて カスタマー に 連絡 。 当然 チャット を した M さん と は 別の 担当 K さん 。 経緯 を 伝えた が 前回 担当 の M さん が 調査 して メール する から 待て と の 旨 の 定型 文 が 返って きた 。 仕方なく もう １ 日 待って みた 。 当然 音沙汰 なし 。 どう なって いる の か ？ と 、 もう 一 度 メール を 送る と 今度 は Ｏ さん が 対応 して 前回 担当 の K さん が 調査 して メール する から 待て と の 旨 の 定型 文 が 送ら れて きた 。 しかし 、 Ｏ さん の 定型 文 に は 『 交換 対応 が 出来 ない かも しれ ない 』 旨 の 文章 が 付け加え られて おり ますます 不安に なった ので 、 交換 出来 ない 可能 が ある の か と 再度 メール にて 質問 する と 、 Ｏ さん から すぐ に 返信 が あり K さん が 調査 して る から 待て と の メール が 返って きた 。 ほんと は ここ に チャット から の やり取り を 全部 貼り付けよう か と 思った けど 、 気持ちよく Amazon を 使って 居ら れる 方 も 大勢 いらっしゃる と 思う ので やめ ました 。 機械 もの な ので 初期 不良 は 仕方 あり ませ ん が 、 Amazon カスタマー の 果たす べき 責任 を うやむやに した たらい回し に この先 も 付き合わ さ れる の か と 思う と 、 正直 嫌に なって き ました 。 私 の 望み は ただ ひと つ 。 良品 と 交換 して ください 。  2015/11/4 最初の 担当 者 の M さん から 交換 の 手続き が でき ました と の 旨 の メール が あり ました 。 最終 的に ちゃんと 対応 して もらえ ました が 、 M さん 以外 の 方 の 対応 に 誠意 が 感じ られ なかった ので 残念でした 。  2015/11/8 交換 商品 の 到着 予定 日 より 少し 早く 代わり の 商品 が 届き ました 。 少し 早く 発送 できる 旨 を カスタマー の U さん が わざわざ 電話 して くれ ました 。 更に 一連の 流れ に つき 丁寧に 謝罪 して くれ ました 。 はじめ から この 対応 だったら … と 、 ますます 残念に …  やっと ここ で 商品 の レビュー な のです が 、 設定 は とにかく 簡単です 。 機械 の こと と か 全く 解ら なくて も 誰 に でも できる と 思い ます 。 ホーム 画面 も 思って いた より も 使い やすい のです が 、 音声 認識 機能 付 の リモコン もしくは スマホ アプリ を 使わ ない と 検索 機能 が 少し 使い にくい です 。 私 の 家 の 環境 で は Wi-Fi が 途切れる こと も なく 、 再生 も スムーズに 行わ れ ます 。 使い やす さ と コスト パフォーマンス を 考えたら 商品 自体 は 星 ５ つ です 。   \n",
       "3                                                                                                                                                                                                                                                                                                                                                                                                                                                                                                                                                                                                                                                                                                                                                                                                                                                                                                                                                                                                                                                                                                                                                                                                                                                                                                                                                                                                                                                                                                                                                                                                                                                                                                                                             レビュー に つら れて 購入 。 早速 、 解説 どおり に TV に 接続 開始 、 ところが 全然 反応 なし ！ いろいろ 試して も だめだった ので 知恵 袋 を 参照 したら 、 我が家 の TV は 亀山 モデル の AQUOS  ！ この 型 に は 反応 し ない と の 回答 を みつけた 次第 で 、  なに これ ～！ それ ぐらい の 注意書き ぐらい あって 然る べき か と ！   \n",
       "4                                                                                                                                                                                                                                                                                                                                                                                                                                                                                                                                                                                                                                                                                                                                                                                                                                                                                                                                                                                                                                                                                                                                                                                                                                                                                                                                                                                                                                                                                                                                                                                                                                                                                                                                                                                                                                                           設定 は デフォルト の まま です が 、 視聴 出来る 動画 の 数 が 、 PC 版 と 全く 違って 少ない です 。  ちょっと 話 に なら ない くらい 少ない です 。 残念 。   \n",
       "\n",
       "  sentiment                         source  \n",
       "0  negative  Darkmap Amazon Review Dataset  \n",
       "1  negative  Darkmap Amazon Review Dataset  \n",
       "2  negative  Darkmap Amazon Review Dataset  \n",
       "3  negative  Darkmap Amazon Review Dataset  \n",
       "4  negative  Darkmap Amazon Review Dataset  "
      ]
     },
     "execution_count": 2,
     "metadata": {},
     "output_type": "execute_result"
    }
   ],
   "source": [
    "#--- Darkmap Amazon Review Dataset ---#\n",
    "# Read positive text\n",
    "df_amazon_jap_neg = pd.read_csv(\"./data/amazon-jap/10000negative.txt\",\n",
    "                                sep=\"\\\\n\",\n",
    "                                header=None,\n",
    "                                names=[\"content\"],\n",
    "                                engine='python'\n",
    "                               )\n",
    "\n",
    "# Read negative text\n",
    "df_amazon_jap_pos = pd.read_csv(\"./data/amazon-jap/10000positive.txt\",\n",
    "                                sep=\"\\\\n\",\n",
    "                                header=None,\n",
    "                                names=[\"content\"],\n",
    "                                engine='python'\n",
    "                               )\n",
    "\n",
    "# Assign sentiment column to the correct text\n",
    "df_amazon_jap_neg[\"sentiment\"] = \"negative\"\n",
    "df_amazon_jap_pos[\"sentiment\"] = \"positive\"\n",
    "\n",
    "# Combine the dataframes\n",
    "df_amazon_jap = pd.concat([df_amazon_jap_neg,df_amazon_jap_pos],\n",
    "                          sort=False\n",
    "                         )\n",
    "\n",
    "# Reset the index\n",
    "df_amazon_jap.reset_index(drop=True, inplace=True)\n",
    "\n",
    "# Create a source column to distinguish this data from the other data sources\n",
    "df_amazon_jap[\"source\"] = \"Darkmap Amazon Review Dataset\"\n",
    "\n",
    "# Display option to stop content clipping\n",
    "pd.set_option('display.max_colwidth', None)\n",
    "\n",
    "# Display the sentiment distribution and the first 5 entries for manual inspection\n",
    "print('--------------------- Amazon Japan Sentiment Distribution ---------------------')\n",
    "print(df_amazon_jap.sentiment.value_counts())\n",
    "print('-'*79)\n",
    "df_amazon_jap.head()"
   ]
  },
  {
   "cell_type": "code",
   "execution_count": null,
   "id": "44555907",
   "metadata": {},
   "outputs": [],
   "source": [
    "# Your code and/or markup here."
   ]
  },
  {
   "cell_type": "markdown",
   "id": "311c460b",
   "metadata": {},
   "source": [
    "### Complete Preprocessor Class\n",
    "\n",
    "Below is a python class which can be used to clean the data. Please study it and add a method to strip all text of the symbols contained within the list `SPEC_CHARS`."
   ]
  },
  {
   "cell_type": "code",
   "execution_count": 1,
   "id": "41cefe63",
   "metadata": {},
   "outputs": [],
   "source": [
    "# Your code and/or markup here wherever you see fit.\n",
    "class TextPreProcessor():\n",
    "    \"\"\"\n",
    "    Rudimentary version for intern task.\n",
    "    \n",
    "        Attributes:\n",
    "        ----------\n",
    "            STOPWORDS (lst) : List of Japanese stopwords\n",
    "            NUMBERS (lst)   : List of digits as string type\n",
    "            SPEC_CHARS (lst): List of special characters to remove\n",
    "        \n",
    "        Methods:\n",
    "        --------\n",
    "        __lowercase\n",
    "        __exclude_stopwords\n",
    "        __clean_numbers\n",
    "        __reduce_whitespaces\n",
    "        __strip_whitespaces\n",
    "        __processing_function\n",
    "        fit\n",
    "        fit_transform\n",
    "        transform            \n",
    "    \"\"\"\n",
    "    # Initialise list of preprocessing methods to activate\n",
    "    __preprocessing_stages = []\n",
    "    \n",
    "    # Attributes\n",
    "    STOPWORDS = ['あそこ', 'あっ', 'あの', 'あのかた', 'あの人', 'あり', 'あります', 'ある', 'あれ', 'い', 'いう', 'います', 'いる', 'う', 'うち', 'え', 'お', 'および', 'おり', 'おります', 'か', 'かつて', 'から', 'が', 'き', 'ここ', 'こちら', 'こと', 'この', 'これ', 'これら', 'さ', 'さらに', 'し', 'しかし', 'する', 'ず', 'せ', 'せる', 'そこ', 'そして', 'その', 'その他', 'その後', 'それ', 'それぞれ', 'それで', 'た', 'ただし', 'たち', 'ため', 'たり', 'だ', 'だっ', 'だれ', 'つ', 'て', 'で', 'でき', 'できる', 'です', 'では', 'でも', 'と', 'という', 'といった', 'とき', 'ところ', 'として', 'とともに', 'とも', 'と共に', 'どこ', 'どの', 'な', 'ない', 'なお', 'なかっ', 'ながら', 'なく', 'なっ', 'など', 'なに', 'なら', 'なり', 'なる', 'なん', 'に', 'において', 'における', 'について', 'にて', 'によって', 'により', 'による', 'に対して', 'に対する', 'に関する', 'の', 'ので', 'のみ', 'は', 'ば', 'へ', 'ほか', 'ほとんど', 'ほど', 'ます', 'また', 'または', 'まで', 'も', 'もの', 'ものの', 'や', 'よう', 'より', 'ら', 'られ', 'られる', 'れ', 'れる', 'を', 'ん', '何', '及び', '彼', '彼女', '我々', '特に', '私', '私達', '貴方', '貴方方']\n",
    "    \n",
    "    NUMBERS = [str(x) for x in range(0,10)]\n",
    "    \n",
    "    SPEC_CHARS = [\"!\",'\"',\"#\",\"%\",\"&\",\"'\",\"(\",\")\",\n",
    "              \"*\",\"+\",\",\",\"-\",\".\",\"/\",\":\",\";\",\"<\",\n",
    "              \"=\",\">\",\"?\",\"@\",\"[\",\"\\\\\",\"]\",\"^\",\"_\",\n",
    "              \"`\",\"{\",\"|\",\"}\",\"~\",\"–\"]\n",
    "    \n",
    "    # Initialisation - set preprocessing methods on or off\n",
    "    def __init__(self, p_lowercase=True, p_exclude_stopwords=True, \n",
    "                 p_clean_numbers=True, p_strip_whitespaces=True,\n",
    "                 p_reduce_whitespaces=True):\n",
    "             \n",
    "        if p_lowercase == True:\n",
    "             self.__preprocessing_stages.append(self.__lowercase)\n",
    "        if p_exclude_stopwords == True:\n",
    "            self.__preprocessing_stages.append(self.__exclude_stopwords)\n",
    "        if p_clean_numbers == True:\n",
    "             self.__preprocessing_stages.append(self.__clean_numbers)   \n",
    "        if p_strip_whitespaces == True:\n",
    "             self.__preprocessing_stages.append(self.__strip_whitespaces)    \n",
    "        if p_reduce_whitespaces == True:\n",
    "             self.__preprocessing_stages.append(self.__reduce_whitespaces)  \n",
    "    \n",
    "    # Text processing methods\n",
    "    def __lowercase(self, p_str_input):\n",
    "        p_str_input = str(p_str_input)        \n",
    "        return str.lower(p_str_input)\n",
    "    \n",
    "    def __exclude_stopwords(self, p_str_input):\n",
    "        p_str_input = str(p_str_input)\n",
    "        return \" \".join([word for word in p_str_input.split() if word not in self.STOPWORDS])                                   \n",
    "    \n",
    "    def __clean_numbers(self, p_str_input):\n",
    "        p_str_input = str(p_str_input)        \n",
    "        for char in self.NUMBERS:\n",
    "            p_str_input = p_str_input.replace(char, ' ')  \n",
    "        return p_str_input    \n",
    "    \n",
    "    def __reduce_whitespaces(self, p_str_input):\n",
    "        p_str_input = str(p_str_input)        \n",
    "        return ' '.join(p_str_input.split())\n",
    "                                \n",
    "    def __strip_whitespaces(self, p_str_input):\n",
    "        p_str_input = str(p_str_input)        \n",
    "        return p_str_input.rstrip()\n",
    "    \n",
    "    # Method for processing the other methods\n",
    "    def __processing_function(self, raw_documents, y=None):\n",
    "        \n",
    "        processed_documents = []\n",
    "        \n",
    "        for document in raw_documents:\n",
    "            for preprocessing_stage in self.__preprocessing_stages:\n",
    "                document = preprocessing_stage(p_str_input=document)\n",
    "                \n",
    "            processed_documents.append(document)\n",
    "            \n",
    "        return processed_documents\n",
    "    \n",
    "    # Methods required for sklearn compatibility\n",
    "    def fit(self, raw_documents, y=None):\n",
    "        return self.__processing_function(raw_documents=raw_documents)\n",
    "\n",
    "    def fit_transform(self, raw_documents, y=None):\n",
    "        return self.__processing_function(raw_documents=raw_documents)\n",
    "\n",
    "    def transform(self, raw_documents, copy=True):\n",
    "        return self.__processing_function(raw_documents=raw_documents)"
   ]
  },
  {
   "cell_type": "markdown",
   "id": "f62ce30b",
   "metadata": {},
   "source": [
    "### Build Machine Learning Pipeline\n",
    "\n",
    "Split the data randomly into 80%-20% training-test. Make sure the sentiment distributions are the same in the training and test data."
   ]
  },
  {
   "cell_type": "code",
   "execution_count": 6,
   "id": "33654f3b",
   "metadata": {},
   "outputs": [],
   "source": [
    "# Your code and/or markup here."
   ]
  },
  {
   "cell_type": "markdown",
   "id": "ea24c9cd",
   "metadata": {},
   "source": [
    "Display sentiment distributions of training and test set in stacked bar charts."
   ]
  },
  {
   "cell_type": "code",
   "execution_count": null,
   "id": "bc251d4a",
   "metadata": {},
   "outputs": [],
   "source": [
    "# Your code and/or markup here."
   ]
  },
  {
   "cell_type": "markdown",
   "id": "834612af",
   "metadata": {},
   "source": [
    "Build the machine learning pipeline by:\n",
    "- Instantiating the preprocessor class and activating your chosen cleaning methods.\n",
    "- Instantiating the TweetTokenizer with whatever parameters you see fit **(done for you)**.\n",
    "- Instantiating the TF-IDF vectorizer with whatever parameters you see fit.\n",
    "- Instantiating a classifier such as LinearSVC with whatever paramters you see fit. You can research sklearn and select any classifier you desire.\n",
    "- Create a pipeline object which first preprocesses, then vectorises, then classifies."
   ]
  },
  {
   "cell_type": "code",
   "execution_count": 4,
   "id": "b40223f6",
   "metadata": {},
   "outputs": [],
   "source": [
    "# Instantiate tweet tokeniser object\n",
    "tweet_tok = TweetTokenizer(strip_handles=True, reduce_len=True)\n",
    "\n",
    "# Your code and/or markup here."
   ]
  },
  {
   "cell_type": "markdown",
   "id": "2975d80d",
   "metadata": {},
   "source": [
    "### Training & Evaluation\n",
    "\n",
    "Train your model and determine it's performance using the standard sklearn classification report metrics.\n",
    "- Fit the pipeline.\n",
    "- Predict with the trained pipeline.\n",
    "- Create the metrics report and display it."
   ]
  },
  {
   "cell_type": "code",
   "execution_count": 5,
   "id": "dc36aba7",
   "metadata": {},
   "outputs": [],
   "source": [
    "# Your code and/or markup here."
   ]
  }
 ],
 "metadata": {
  "kernelspec": {
   "display_name": "development",
   "language": "python",
   "name": "development"
  },
  "language_info": {
   "codemirror_mode": {
    "name": "ipython",
    "version": 3
   },
   "file_extension": ".py",
   "mimetype": "text/x-python",
   "name": "python",
   "nbconvert_exporter": "python",
   "pygments_lexer": "ipython3",
   "version": "3.9.15"
  }
 },
 "nbformat": 4,
 "nbformat_minor": 5
}
